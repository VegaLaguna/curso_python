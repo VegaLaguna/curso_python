{
 "cells": [
  {
   "cell_type": "markdown",
   "metadata": {
    "application/vnd.databricks.v1+cell": {
     "inputWidgets": {},
     "nuid": "71f33d72-f0dc-4b40-92c5-ecad7f1e740a",
     "showTitle": false,
     "title": ""
    }
   },
   "source": [
    "# TEMA 2 - VARIABLES Y OPERACIONES BÁSICAS EN PYTHON"
   ]
  },
  {
   "cell_type": "markdown",
   "metadata": {
    "application/vnd.databricks.v1+cell": {
     "inputWidgets": {},
     "nuid": "4b76b352-9e70-4ed2-800e-03996d7bd9c1",
     "showTitle": false,
     "title": ""
    }
   },
   "source": [
    "### Introducción: asignar valores a variables"
   ]
  },
  {
   "cell_type": "markdown",
   "metadata": {
    "application/vnd.databricks.v1+cell": {
     "inputWidgets": {},
     "nuid": "9373555a-c8f1-4e9c-b762-7b8b38cc8424",
     "showTitle": false,
     "title": ""
    }
   },
   "source": [
    "Todos los cálculos en Python se guardan en alguna variable (si no indicamos nada, se guarda en la variable _).\n",
    "  \n",
    "  \n",
    "La operación que consiste en guardar un valor en una variable es la ***asignación***. Se representa por el signo **=**.\n",
    "\n",
    "En una asignación, el intérprete primero evalúa lo que está a la derecha del signo = y por último guarda el resultado de esa evaluación en la variable."
   ]
  },
  {
   "cell_type": "markdown",
   "metadata": {
    "application/vnd.databricks.v1+cell": {
     "inputWidgets": {},
     "nuid": "620100c9-9af2-4cca-b9b5-62f6777490d3",
     "showTitle": false,
     "title": ""
    }
   },
   "source": [
    "Las variables son parecidas a las variables en Matemáticas, pero tienen además *tipo*. Es decir, una variable tiene:\n",
    "\n",
    "   -   Valor\n",
    "\n",
    "   -   Tipo de dato"
   ]
  },
  {
   "cell_type": "code",
   "execution_count": 1,
   "metadata": {
    "application/vnd.databricks.v1+cell": {
     "inputWidgets": {},
     "nuid": "8f4ce114-c275-4e37-b0ec-9cb851379b79",
     "showTitle": false,
     "title": ""
    }
   },
   "outputs": [
    {
     "data": {
      "text/plain": [
       "int"
      ]
     },
     "execution_count": 1,
     "metadata": {},
     "output_type": "execute_result"
    }
   ],
   "source": [
    "# Vamos a crear la variable a, que va a tener un valor de 5\n",
    "a=5\n",
    "\n",
    "# Vamos a ver cuál es el \"tipo\" de esta variable\n",
    "type(a)"
   ]
  },
  {
   "cell_type": "code",
   "execution_count": 2,
   "metadata": {
    "application/vnd.databricks.v1+cell": {
     "inputWidgets": {},
     "nuid": "43d02417-eb02-4e8c-859d-9b713e559e30",
     "showTitle": false,
     "title": ""
    }
   },
   "outputs": [
    {
     "data": {
      "text/plain": [
       "float"
      ]
     },
     "execution_count": 2,
     "metadata": {},
     "output_type": "execute_result"
    }
   ],
   "source": [
    "# Vamos a crear una nueva variable con valor 1.5 y ver cuál es su tipo\n",
    "b = 1.5\n",
    "type(b)"
   ]
  },
  {
   "cell_type": "code",
   "execution_count": 3,
   "metadata": {
    "application/vnd.databricks.v1+cell": {
     "inputWidgets": {},
     "nuid": "01d51a1b-63d9-4ab8-962c-34bdaadcec96",
     "showTitle": false,
     "title": ""
    }
   },
   "outputs": [
    {
     "name": "stdout",
     "output_type": "stream",
     "text": [
      "6.5\n"
     ]
    },
    {
     "data": {
      "text/plain": [
       "float"
      ]
     },
     "execution_count": 3,
     "metadata": {},
     "output_type": "execute_result"
    }
   ],
   "source": [
    "# ¿Podemos sumar a y b aunque tengan tipos distintos?\n",
    "c = a+b\n",
    "print(c)\n",
    "type(c)"
   ]
  },
  {
   "cell_type": "markdown",
   "metadata": {
    "application/vnd.databricks.v1+cell": {
     "inputWidgets": {},
     "nuid": "38cd3629-81e6-44df-b04e-95a10f874edc",
     "showTitle": false,
     "title": ""
    }
   },
   "source": [
    "### ¿Qué podemos guardar en una variable?\n",
    "\n",
    "Tipos de datos elementales\n",
    "\n",
    "-   Números enteros (con signo y sin signo) --> tipo **int**\n",
    "\n",
    "-   Números en coma flotante (números con decimales) --> tipo **float**\n",
    "\n",
    "-   Cadenas de texto (strings) --> tipo **str**\n",
    "\n",
    "-   Valores lógicos o booleanos --> tipo **bool**"
   ]
  },
  {
   "cell_type": "markdown",
   "metadata": {
    "application/vnd.databricks.v1+cell": {
     "inputWidgets": {},
     "nuid": "8d27c6f7-a138-464d-a33f-1c264c5186be",
     "showTitle": false,
     "title": ""
    }
   },
   "source": [
    "Estructuras de datos (ver *TEMA 04: Estructuras de datos*)\n",
    "\n",
    "-   Listas --> tipo **list**\n",
    "\n",
    "-   Tuplas --> tipo **tuple**\n",
    "\n",
    "-   Diccionarios --> tipo **dict**\n",
    "\n",
    "-   Otras estructuras"
   ]
  },
  {
   "cell_type": "code",
   "execution_count": 0,
   "metadata": {
    "application/vnd.databricks.v1+cell": {
     "inputWidgets": {},
     "nuid": "99066506-b108-4906-bf94-566246aafff1",
     "showTitle": false,
     "title": ""
    }
   },
   "outputs": [
    {
     "data": {
      "text/html": [
       "<style scoped>\n",
       "  .ansiout {\n",
       "    display: block;\n",
       "    unicode-bidi: embed;\n",
       "    white-space: pre-wrap;\n",
       "    word-wrap: break-word;\n",
       "    word-break: break-all;\n",
       "    font-family: \"Source Code Pro\", \"Menlo\", monospace;;\n",
       "    font-size: 13px;\n",
       "    color: #555;\n",
       "    margin-left: 4px;\n",
       "    line-height: 19px;\n",
       "  }\n",
       "</style>"
      ]
     },
     "metadata": {
      "application/vnd.databricks.v1+output": {
       "arguments": {},
       "data": "",
       "errorSummary": "",
       "metadata": {},
       "type": "ipynbError"
      }
     },
     "output_type": "display_data"
    }
   ],
   "source": []
  },
  {
   "cell_type": "markdown",
   "metadata": {
    "application/vnd.databricks.v1+cell": {
     "inputWidgets": {},
     "nuid": "3fc3796c-e1a9-454f-8cd6-d52dc19d6217",
     "showTitle": false,
     "title": ""
    }
   },
   "source": [
    "## Tipos de datos:\n",
    "## Tipo bool\n",
    "\n",
    "Tiene sólo dos valores posibles: `True` y `False`\n",
    "\n",
    "Podemos asignar booleanos a variables o crearlos a partir de comparaciones."
   ]
  },
  {
   "cell_type": "code",
   "execution_count": 4,
   "metadata": {
    "application/vnd.databricks.v1+cell": {
     "inputWidgets": {},
     "nuid": "e722bc17-9a0f-4a39-8c91-52682096a69e",
     "showTitle": false,
     "title": ""
    }
   },
   "outputs": [
    {
     "name": "stdout",
     "output_type": "stream",
     "text": [
      "True\n"
     ]
    }
   ],
   "source": [
    "verdadero = True\n",
    "falso = False\n",
    "print(verdadero)"
   ]
  },
  {
   "cell_type": "code",
   "execution_count": 5,
   "metadata": {
    "application/vnd.databricks.v1+cell": {
     "inputWidgets": {},
     "nuid": "b9a6b898-c2bd-490c-a654-2e9a8bb37998",
     "showTitle": false,
     "title": ""
    }
   },
   "outputs": [
    {
     "data": {
      "text/plain": [
       "True"
      ]
     },
     "execution_count": 5,
     "metadata": {},
     "output_type": "execute_result"
    }
   ],
   "source": [
    "# La más básicas de las comparaciones es ==\n",
    "# Compara si dos valores son iguales\n",
    "10==10"
   ]
  },
  {
   "cell_type": "code",
   "execution_count": 6,
   "metadata": {
    "application/vnd.databricks.v1+cell": {
     "inputWidgets": {},
     "nuid": "15517f82-80dd-4f32-93f8-704848b41960",
     "showTitle": false,
     "title": ""
    }
   },
   "outputs": [
    {
     "data": {
      "text/plain": [
       "False"
      ]
     },
     "execution_count": 6,
     "metadata": {},
     "output_type": "execute_result"
    }
   ],
   "source": [
    "10==11"
   ]
  },
  {
   "cell_type": "code",
   "execution_count": 7,
   "metadata": {
    "application/vnd.databricks.v1+cell": {
     "inputWidgets": {},
     "nuid": "c1b1453e-c60d-490a-83a9-a6857f7c48d1",
     "showTitle": false,
     "title": ""
    }
   },
   "outputs": [
    {
     "data": {
      "text/plain": [
       "True"
      ]
     },
     "execution_count": 7,
     "metadata": {},
     "output_type": "execute_result"
    }
   ],
   "source": [
    "10.5<=11"
   ]
  },
  {
   "cell_type": "code",
   "execution_count": 8,
   "metadata": {},
   "outputs": [
    {
     "data": {
      "text/plain": [
       "False"
      ]
     },
     "execution_count": 8,
     "metadata": {},
     "output_type": "execute_result"
    }
   ],
   "source": [
    "\"10\" == 10"
   ]
  },
  {
   "cell_type": "code",
   "execution_count": 0,
   "metadata": {
    "application/vnd.databricks.v1+cell": {
     "inputWidgets": {},
     "nuid": "a197820f-4531-4a32-9db2-31580135eba3",
     "showTitle": false,
     "title": ""
    }
   },
   "outputs": [
    {
     "data": {
      "text/html": [
       "<style scoped>\n",
       "  .ansiout {\n",
       "    display: block;\n",
       "    unicode-bidi: embed;\n",
       "    white-space: pre-wrap;\n",
       "    word-wrap: break-word;\n",
       "    word-break: break-all;\n",
       "    font-family: \"Source Code Pro\", \"Menlo\", monospace;;\n",
       "    font-size: 13px;\n",
       "    color: #555;\n",
       "    margin-left: 4px;\n",
       "    line-height: 19px;\n",
       "  }\n",
       "</style>"
      ]
     },
     "metadata": {
      "application/vnd.databricks.v1+output": {
       "arguments": {},
       "data": "",
       "errorSummary": "",
       "metadata": {},
       "type": "ipynbError"
      }
     },
     "output_type": "display_data"
    }
   ],
   "source": []
  },
  {
   "cell_type": "markdown",
   "metadata": {
    "application/vnd.databricks.v1+cell": {
     "inputWidgets": {},
     "nuid": "4009836b-f23c-48fa-bb84-707cb074719b",
     "showTitle": false,
     "title": ""
    }
   },
   "source": [
    "## Tipos numéricos\n",
    "\n",
    "Hay dos tipos básicos de datos numéricos: enteros y decimales.\n",
    "\n",
    "**`int`**: números enteros\n",
    "\n",
    "**`float`**: decimales"
   ]
  },
  {
   "cell_type": "markdown",
   "metadata": {
    "application/vnd.databricks.v1+cell": {
     "inputWidgets": {},
     "nuid": "08528fa3-0e6f-405b-9f8a-483e94ace10b",
     "showTitle": false,
     "title": ""
    }
   },
   "source": [
    "#### Conversión entre tipos\n",
    "\n",
    "Podemos convertir entre tipos numéricos con las funciones `int()` y `float()`\n",
    "\n",
    "Al convertir `float` a `int` perderemos la parte *decimal*."
   ]
  },
  {
   "cell_type": "code",
   "execution_count": 9,
   "metadata": {
    "application/vnd.databricks.v1+cell": {
     "inputWidgets": {},
     "nuid": "677236f0-707a-4b0b-9cb7-a73c59b61d84",
     "showTitle": false,
     "title": ""
    }
   },
   "outputs": [
    {
     "data": {
      "text/plain": [
       "25410"
      ]
     },
     "execution_count": 9,
     "metadata": {},
     "output_type": "execute_result"
    }
   ],
   "source": [
    "# EJEMPLO\n",
    "# Tenemos una variable que indica la lectura del contador de gas\n",
    "# Al leerlo en mi contador, veo que tiene 2 decimales --> será tipo float\n",
    "cont_gas = 25410.72\n",
    "\n",
    "# Puedo comprobar el tipo con: type(cont_gas)\n",
    "\n",
    "# Si solo me interesa la parte entera, puedo hacer:\n",
    "int(cont_gas)"
   ]
  },
  {
   "cell_type": "code",
   "execution_count": 10,
   "metadata": {},
   "outputs": [
    {
     "data": {
      "text/plain": [
       "float"
      ]
     },
     "execution_count": 10,
     "metadata": {},
     "output_type": "execute_result"
    }
   ],
   "source": [
    "type(cont_gas)"
   ]
  },
  {
   "cell_type": "code",
   "execution_count": 11,
   "metadata": {
    "application/vnd.databricks.v1+cell": {
     "inputWidgets": {},
     "nuid": "0a69cb0f-0bd4-4b0e-8ef8-38c243c2ce56",
     "showTitle": false,
     "title": ""
    }
   },
   "outputs": [
    {
     "data": {
      "text/plain": [
       "25411"
      ]
     },
     "execution_count": 11,
     "metadata": {},
     "output_type": "execute_result"
    }
   ],
   "source": [
    "# OJO: NO ES LO MISMO QUE REDONDEAR UN VALOR!\n",
    "# Para redondear podemos usar la función round()\n",
    "\n",
    "round(cont_gas)"
   ]
  },
  {
   "cell_type": "code",
   "execution_count": null,
   "metadata": {},
   "outputs": [],
   "source": []
  },
  {
   "cell_type": "markdown",
   "metadata": {
    "application/vnd.databricks.v1+cell": {
     "inputWidgets": {},
     "nuid": "b77ababd-1099-49d3-a649-395257159654",
     "showTitle": false,
     "title": ""
    }
   },
   "source": [
    "### Operaciones matemáticas\n",
    "\n",
    "Se puede usar Python como una calculadora.\n",
    "\n",
    "**Operadores aritméticos:**\n",
    "\n",
    "  |Operador         | Símbolo | Ejemplo  |Resultado |\n",
    "  |---------------- |---------| ---------| ---------|\n",
    "  |Suma             |    +    | 2+3      | 5        |\n",
    "  |Resta            |    -    | 5-4      | 1        |\n",
    "  |Multiplicación   |   \\*    | 3\\*5     | 15       |\n",
    "  |División         |    /    | 60/4     | 15       |\n",
    "  |Potencia         |  \\*\\*   | 3\\*\\*5   | 243      |\n",
    "  |Cociente         | //      | 32//3    | 10       |\n",
    "  |Módulo           | %       | 32%3     | 2        |\n",
    "\n",
    "\n",
    "Vamos a hacer algunas de las operaciones mostradas en la tabla de arriba.\n",
    "\n",
    "<!-- la tabla está chulísima -->"
   ]
  },
  {
   "cell_type": "code",
   "execution_count": 12,
   "metadata": {
    "application/vnd.databricks.v1+cell": {
     "inputWidgets": {},
     "nuid": "ab7e57fa-c6ef-4989-9089-c0183d9d33a0",
     "showTitle": false,
     "title": ""
    }
   },
   "outputs": [
    {
     "data": {
      "text/plain": [
       "15"
      ]
     },
     "execution_count": 12,
     "metadata": {},
     "output_type": "execute_result"
    }
   ],
   "source": [
    "# OJO: no confundir la multiplicación (símbolo *)\n",
    "3*5"
   ]
  },
  {
   "cell_type": "code",
   "execution_count": 13,
   "metadata": {
    "application/vnd.databricks.v1+cell": {
     "inputWidgets": {},
     "nuid": "bbe08702-a244-4e3c-9ec2-4a4562af5cf5",
     "showTitle": false,
     "title": ""
    }
   },
   "outputs": [
    {
     "data": {
      "text/plain": [
       "243"
      ]
     },
     "execution_count": 13,
     "metadata": {},
     "output_type": "execute_result"
    }
   ],
   "source": [
    "# con la potencia (símbolo **)\n",
    "3**5"
   ]
  },
  {
   "cell_type": "markdown",
   "metadata": {
    "application/vnd.databricks.v1+cell": {
     "inputWidgets": {},
     "nuid": "269dee7a-d0b5-4c53-89e7-e69366bc889d",
     "showTitle": false,
     "title": ""
    }
   },
   "source": [
    "Puedes acceder a la documentación oficial y descubrir las operacioens con los datos de tipo numéricos a través de este link: **[Catálogo de las operaciones con tipos numéricos](https://docs.python.org/3/library/functions.html)**"
   ]
  },
  {
   "cell_type": "code",
   "execution_count": 0,
   "metadata": {
    "application/vnd.databricks.v1+cell": {
     "inputWidgets": {},
     "nuid": "b05df85e-31c6-4d2b-ac77-734d6ecab818",
     "showTitle": false,
     "title": ""
    }
   },
   "outputs": [
    {
     "data": {
      "text/html": [
       "<style scoped>\n",
       "  .ansiout {\n",
       "    display: block;\n",
       "    unicode-bidi: embed;\n",
       "    white-space: pre-wrap;\n",
       "    word-wrap: break-word;\n",
       "    word-break: break-all;\n",
       "    font-family: \"Source Code Pro\", \"Menlo\", monospace;;\n",
       "    font-size: 13px;\n",
       "    color: #555;\n",
       "    margin-left: 4px;\n",
       "    line-height: 19px;\n",
       "  }\n",
       "</style>"
      ]
     },
     "metadata": {
      "application/vnd.databricks.v1+output": {
       "arguments": {},
       "data": "",
       "errorSummary": "",
       "metadata": {},
       "type": "ipynbError"
      }
     },
     "output_type": "display_data"
    }
   ],
   "source": []
  },
  {
   "cell_type": "markdown",
   "metadata": {
    "application/vnd.databricks.v1+cell": {
     "inputWidgets": {},
     "nuid": "9fb7ec35-17f8-4495-b301-15f2ba7bd00c",
     "showTitle": false,
     "title": ""
    }
   },
   "source": [
    "#### Reglas de prioridad\n",
    "\n",
    "-   La prioridad funciona de manera similar a las reglas de la\n",
    "    aritmética que conocemos.\n",
    "\n",
    "-   Es mejor usar paréntesis para evitar situaciones dudosas y hacer explícito el orden de las operaciones."
   ]
  },
  {
   "cell_type": "code",
   "execution_count": 14,
   "metadata": {
    "application/vnd.databricks.v1+cell": {
     "inputWidgets": {},
     "nuid": "d199bb86-ffcc-4c4a-b4a6-f220d2382d79",
     "showTitle": false,
     "title": ""
    }
   },
   "outputs": [
    {
     "name": "stdout",
     "output_type": "stream",
     "text": [
      "El resultado de la operación 1 es: 25\n",
      "El resultado de la operación 2 es: 17\n"
     ]
    }
   ],
   "source": [
    "op1 = (2+3)*5\n",
    "op2 = 2+3*5\n",
    "\n",
    "print('El resultado de la operación 1 es:', op1)\n",
    "print('El resultado de la operación 2 es: %d' %op2)"
   ]
  },
  {
   "cell_type": "code",
   "execution_count": 15,
   "metadata": {
    "application/vnd.databricks.v1+cell": {
     "inputWidgets": {},
     "nuid": "76d0db41-d4e2-487c-9254-3e00a9d1d82a",
     "showTitle": false,
     "title": ""
    }
   },
   "outputs": [
    {
     "data": {
      "text/plain": [
       "False"
      ]
     },
     "execution_count": 15,
     "metadata": {},
     "output_type": "execute_result"
    }
   ],
   "source": [
    "# Podemos preguntarle a Python si los resultados de la operaciones anteriores son iguales\n",
    "# Nos devolverá un valor BOOLEANO (True o False)\n",
    "op1 == op2"
   ]
  },
  {
   "cell_type": "code",
   "execution_count": 0,
   "metadata": {
    "application/vnd.databricks.v1+cell": {
     "inputWidgets": {},
     "nuid": "ae343a8a-7d5e-4536-ade8-a55c771dd1b7",
     "showTitle": false,
     "title": ""
    }
   },
   "outputs": [
    {
     "data": {
      "text/html": [
       "<style scoped>\n",
       "  .ansiout {\n",
       "    display: block;\n",
       "    unicode-bidi: embed;\n",
       "    white-space: pre-wrap;\n",
       "    word-wrap: break-word;\n",
       "    word-break: break-all;\n",
       "    font-family: \"Source Code Pro\", \"Menlo\", monospace;;\n",
       "    font-size: 13px;\n",
       "    color: #555;\n",
       "    margin-left: 4px;\n",
       "    line-height: 19px;\n",
       "  }\n",
       "</style>"
      ]
     },
     "metadata": {
      "application/vnd.databricks.v1+output": {
       "arguments": {},
       "data": "",
       "errorSummary": "",
       "metadata": {},
       "type": "ipynbError"
      }
     },
     "output_type": "display_data"
    }
   ],
   "source": []
  },
  {
   "cell_type": "markdown",
   "metadata": {
    "application/vnd.databricks.v1+cell": {
     "inputWidgets": {},
     "nuid": "3c59af05-7004-4b60-9006-31aa520a00ad",
     "showTitle": false,
     "title": ""
    }
   },
   "source": [
    "#### Operaciones sin resultados\n",
    "\n",
    "¿Cuál es el resultado de  7/0 ? ¿Y de  0/0 ?"
   ]
  },
  {
   "cell_type": "code",
   "execution_count": 16,
   "metadata": {
    "application/vnd.databricks.v1+cell": {
     "inputWidgets": {},
     "nuid": "abdf00c4-f684-4662-b74e-7962cafab108",
     "showTitle": false,
     "title": ""
    }
   },
   "outputs": [
    {
     "ename": "ZeroDivisionError",
     "evalue": "division by zero",
     "output_type": "error",
     "traceback": [
      "\u001b[1;31m---------------------------------------------------------------------------\u001b[0m",
      "\u001b[1;31mZeroDivisionError\u001b[0m                         Traceback (most recent call last)",
      "\u001b[1;32m<ipython-input-16-ff4b999c47a3>\u001b[0m in \u001b[0;36m<module>\u001b[1;34m\u001b[0m\n\u001b[1;32m----> 1\u001b[1;33m \u001b[1;36m7\u001b[0m\u001b[1;33m/\u001b[0m\u001b[1;36m0\u001b[0m\u001b[1;33m\u001b[0m\u001b[1;33m\u001b[0m\u001b[0m\n\u001b[0m",
      "\u001b[1;31mZeroDivisionError\u001b[0m: division by zero"
     ]
    }
   ],
   "source": [
    "7/0"
   ]
  },
  {
   "cell_type": "markdown",
   "metadata": {
    "application/vnd.databricks.v1+cell": {
     "inputWidgets": {},
     "nuid": "0897e6b9-decf-4db1-86ab-d3c62bc1a462",
     "showTitle": false,
     "title": ""
    }
   },
   "source": [
    "### Excepciones\n",
    "\n",
    "Cuando el ordenador no puede realizar una operación, lanza una **excepción**.\n",
    "\n",
    "Podemos manejar las excepciones en nuestros programas, para reaccionar a los errores.\n",
    "\n",
    "Los errores al ejecutar un programa son algo **totalmente natural**. Es normal tener que hacer varios intentos hasta que tengamos nuestros programas listos.\n",
    "\n",
    "-   Y aún en esos casos, más tarde descubriremos que nuestros programas tenían errores que no habíamos descubierto.\n",
    "\n",
    "Por eso, usa el ordenador para mejorar tus programas. Los errores son la ayuda que el ordenador te ofrece para mejorar tu programa."
   ]
  },
  {
   "cell_type": "code",
   "execution_count": 0,
   "metadata": {
    "application/vnd.databricks.v1+cell": {
     "inputWidgets": {},
     "nuid": "44990e6d-1fe9-44a5-a9ea-d65be8db5817",
     "showTitle": false,
     "title": ""
    }
   },
   "outputs": [
    {
     "data": {
      "text/html": [
       "<style scoped>\n",
       "  .ansiout {\n",
       "    display: block;\n",
       "    unicode-bidi: embed;\n",
       "    white-space: pre-wrap;\n",
       "    word-wrap: break-word;\n",
       "    word-break: break-all;\n",
       "    font-family: \"Source Code Pro\", \"Menlo\", monospace;;\n",
       "    font-size: 13px;\n",
       "    color: #555;\n",
       "    margin-left: 4px;\n",
       "    line-height: 19px;\n",
       "  }\n",
       "</style>"
      ]
     },
     "metadata": {
      "application/vnd.databricks.v1+output": {
       "arguments": {},
       "data": "",
       "errorSummary": "",
       "metadata": {},
       "type": "ipynbError"
      }
     },
     "output_type": "display_data"
    }
   ],
   "source": []
  },
  {
   "cell_type": "markdown",
   "metadata": {
    "application/vnd.databricks.v1+cell": {
     "inputWidgets": {},
     "nuid": "426d30b7-c69f-406a-b01f-166e9f630eb0",
     "showTitle": false,
     "title": ""
    }
   },
   "source": [
    "## Buenas prácticas para nombrar variables\n",
    "\n",
    "Elegir los nombres adecuados es importante, porque:\n",
    "\n",
    "- Facilita la lectura del código\n",
    "\n",
    "- Evita errores en el programa\n",
    "\n",
    "\n",
    "Reglas para los nombres de variables\n",
    "\n",
    "-   No pueden contener ningún operador como parte del nombre\n",
    "\n",
    "-   No pueden empezar por un número.\n",
    "\n",
    "-   Pueden contener números y otros símbolos en el resto del nombre.\n",
    "\n",
    "-   Son sensibles a mayúsculas y minúsculas."
   ]
  },
  {
   "cell_type": "markdown",
   "metadata": {
    "application/vnd.databricks.v1+cell": {
     "inputWidgets": {},
     "nuid": "eaf70ba5-51f8-49bf-9f45-31529cbb49be",
     "showTitle": false,
     "title": ""
    }
   },
   "source": [
    "[Recomendaciones](https://www.python.org/dev/peps/pep-0008/#prescriptive-naming-conventions) para los nombres de variables:\n",
    "\n",
    "-   Los nombres deberían ser representativos del contenido de la\n",
    "    variable, cortos e intuitivos.\n",
    "\n",
    "-   Evitar usar nombres de una sola letra, en particular `l`, `O`, y `I`.\n",
    "\n",
    "-   Empezar siempre por minúscula\n",
    "\n",
    "-   En caso de tener más de una palabra, separarlas con guiones bajos: `total_viajes`"
   ]
  },
  {
   "cell_type": "code",
   "execution_count": 0,
   "metadata": {
    "application/vnd.databricks.v1+cell": {
     "inputWidgets": {},
     "nuid": "123eaa46-dd87-42a0-9824-be097a55ddee",
     "showTitle": false,
     "title": ""
    }
   },
   "outputs": [
    {
     "data": {
      "text/html": [
       "<style scoped>\n",
       "  .ansiout {\n",
       "    display: block;\n",
       "    unicode-bidi: embed;\n",
       "    white-space: pre-wrap;\n",
       "    word-wrap: break-word;\n",
       "    word-break: break-all;\n",
       "    font-family: \"Source Code Pro\", \"Menlo\", monospace;;\n",
       "    font-size: 13px;\n",
       "    color: #555;\n",
       "    margin-left: 4px;\n",
       "    line-height: 19px;\n",
       "  }\n",
       "</style>"
      ]
     },
     "metadata": {
      "application/vnd.databricks.v1+output": {
       "arguments": {},
       "data": "",
       "errorSummary": "",
       "metadata": {},
       "type": "ipynbError"
      }
     },
     "output_type": "display_data"
    }
   ],
   "source": []
  },
  {
   "cell_type": "markdown",
   "metadata": {
    "application/vnd.databricks.v1+cell": {
     "inputWidgets": {},
     "nuid": "aed18e33-b909-4e71-90cf-04a8b535a57a",
     "showTitle": false,
     "title": ""
    }
   },
   "source": [
    "#### ---------------------------------------------------------------------------------------------------------------------------------------------------------"
   ]
  },
  {
   "cell_type": "markdown",
   "metadata": {
    "application/vnd.databricks.v1+cell": {
     "inputWidgets": {},
     "nuid": "73ce8f6f-c242-49e4-a925-c9e234a7f306",
     "showTitle": false,
     "title": ""
    }
   },
   "source": [
    "### EJERCICIOS: OPERACIONES MATEMÁTICAS\n",
    "\n",
    "Los ejercicios a continuación vienen ya resueltos, pero lo ideal sería que intentases resolverlos por tu cuenta y solo recurrieses a la solución si te vieses estancado."
   ]
  },
  {
   "cell_type": "markdown",
   "metadata": {
    "application/vnd.databricks.v1+cell": {
     "inputWidgets": {},
     "nuid": "809c032a-dd41-41b0-ab67-819b5d18ecb7",
     "showTitle": false,
     "title": ""
    }
   },
   "source": [
    "#### Problema 1\n",
    "\n",
    "Calcula la superficie de un triángulo de altura h y base b. \n",
    "\n",
    "*Nota*: Tú tendrás que asignar los valores de h y b que quieras."
   ]
  },
  {
   "cell_type": "code",
   "execution_count": 17,
   "metadata": {
    "application/vnd.databricks.v1+cell": {
     "inputWidgets": {},
     "nuid": "1ea0c841-3bbc-44f3-8547-1013376d0293",
     "showTitle": false,
     "title": ""
    }
   },
   "outputs": [
    {
     "name": "stdout",
     "output_type": "stream",
     "text": [
      "Area del triángulo de altura 2.50 y base 6.15: 7.6875\n"
     ]
    }
   ],
   "source": [
    "# SOLUCIÓN\n",
    "h = 2.5\n",
    "b = 6.15\n",
    "area_tri = 0.5*b*h\n",
    "print('Area del triángulo de altura %.2f y base %.2f: %.4f' %(h,b,area_tri))"
   ]
  },
  {
   "cell_type": "markdown",
   "metadata": {
    "application/vnd.databricks.v1+cell": {
     "inputWidgets": {},
     "nuid": "5caed927-7e73-4201-91cc-7b54a3fc84b5",
     "showTitle": false,
     "title": ""
    }
   },
   "source": [
    "#### Problema 2\n",
    "\n",
    "Calcula el área de un círculo de radio r  \n",
    "\n",
    "*Nota*: Utiliza la constante _pi_ del módulo math"
   ]
  },
  {
   "cell_type": "code",
   "execution_count": 18,
   "metadata": {
    "application/vnd.databricks.v1+cell": {
     "inputWidgets": {},
     "nuid": "f3f5c8a2-4b89-41de-bdf5-5896b70cfe95",
     "showTitle": false,
     "title": ""
    }
   },
   "outputs": [
    {
     "name": "stdout",
     "output_type": "stream",
     "text": [
      "Area del círculo de radio 4.00: 50.2655\n"
     ]
    }
   ],
   "source": [
    "# SOLUCIÓN\n",
    "import math \n",
    "\n",
    "r = 4\n",
    "area_circ = math.pi*r**2\n",
    "print('Area del círculo de radio %.2f: %.4f' %(r,area_circ))"
   ]
  },
  {
   "cell_type": "markdown",
   "metadata": {
    "application/vnd.databricks.v1+cell": {
     "inputWidgets": {},
     "nuid": "9fdbcf6d-74aa-4614-bd49-e9dbef06b950",
     "showTitle": false,
     "title": ""
    }
   },
   "source": [
    "#### Problema 3\n",
    "\n",
    "Calcula los minutos que tardaría un Seat 600 en llegar de Madrid a Benidorm al 70% de la velocidad máxima permitida en la A4 (120 km/h). La distancia entre Madrid y Benidorm son 460 kilómetros. El resultado se debe dar como ***parte truncada de un float*** (es decir, que quiero un valor entero pero no el redondeado).\n",
    "\n",
    "Si el coche consume 15 litros a los 100 y tiene un depósito de 40 litros. Saliendo con él lleno, en qué kilómetro ha de parar a repostar como máximo. El resultado se debe dar como el redondeo de un float.\n",
    "\n",
    "Muestra los resultados dentro de un ***print()***."
   ]
  },
  {
   "cell_type": "code",
   "execution_count": 19,
   "metadata": {
    "application/vnd.databricks.v1+cell": {
     "inputWidgets": {},
     "nuid": "5b09173a-ed16-43ec-b4d1-9737ccae893f",
     "showTitle": false,
     "title": ""
    }
   },
   "outputs": [
    {
     "name": "stdout",
     "output_type": "stream",
     "text": [
      "El Seat 600 tardará 328 minutos.\n",
      "El depósito se vaciará a los 267 km.\n"
     ]
    }
   ],
   "source": [
    "# SOLUCIÓN\n",
    "\n",
    "# DATOS 1ª PARTE\n",
    "dist = 460 #km (SE PUEDEN PONER COMENTARIOS TAMBIÉN TRAS LINEAS DE CÓDIGO)\n",
    "vel_max = 120 #km/h\n",
    "\n",
    "# Velocidad del coche\n",
    "vel_coche = 0.7*vel_max\n",
    "\n",
    "# Hacemos una regla de tres\n",
    "tiempo = 60*dist/vel_coche\n",
    "print('El Seat 600 tardará %d minutos.' %tiempo)\n",
    "\n",
    "\n",
    "# DATOS 2ª PARTE\n",
    "consumo = 15 #litros/100km\n",
    "deposito = 40 #litros\n",
    "\n",
    "dep_vacio = deposito*100/consumo\n",
    "print('El depósito se vaciará a los', round(dep_vacio),'km.')"
   ]
  },
  {
   "cell_type": "markdown",
   "metadata": {
    "application/vnd.databricks.v1+cell": {
     "inputWidgets": {},
     "nuid": "1d0276c2-5bbc-47f1-bb5b-7de6b71bbc74",
     "showTitle": false,
     "title": ""
    }
   },
   "source": [
    "<img src=\"https://www.proces-data.com/wp-content/uploads/2018/06/Tip.jpg\"  style=\"width: 300px; float: left;\"/>\n",
    "\n",
    "\n",
    "Usar el **tabulador** para autocompletar los nombres de variables."
   ]
  },
  {
   "cell_type": "code",
   "execution_count": 0,
   "metadata": {
    "application/vnd.databricks.v1+cell": {
     "inputWidgets": {},
     "nuid": "011981f4-5992-4de7-9e92-99c1675979fa",
     "showTitle": false,
     "title": ""
    }
   },
   "outputs": [
    {
     "data": {
      "text/html": [
       "<style scoped>\n",
       "  .ansiout {\n",
       "    display: block;\n",
       "    unicode-bidi: embed;\n",
       "    white-space: pre-wrap;\n",
       "    word-wrap: break-word;\n",
       "    word-break: break-all;\n",
       "    font-family: \"Source Code Pro\", \"Menlo\", monospace;;\n",
       "    font-size: 13px;\n",
       "    color: #555;\n",
       "    margin-left: 4px;\n",
       "    line-height: 19px;\n",
       "  }\n",
       "</style>"
      ]
     },
     "metadata": {
      "application/vnd.databricks.v1+output": {
       "arguments": {},
       "data": "",
       "errorSummary": "",
       "metadata": {},
       "type": "ipynbError"
      }
     },
     "output_type": "display_data"
    }
   ],
   "source": []
  },
  {
   "cell_type": "markdown",
   "metadata": {
    "application/vnd.databricks.v1+cell": {
     "inputWidgets": {},
     "nuid": "8ed1416e-8ec8-4731-b927-34fce49a400f",
     "showTitle": false,
     "title": ""
    }
   },
   "source": [
    "## Tipo string\n",
    "\n",
    "Contienen cadenas de caracteres, es decir, texto. Se limitan por comillas simples (`'string'`) o dobles (`\"string\"`)"
   ]
  },
  {
   "cell_type": "code",
   "execution_count": 20,
   "metadata": {
    "application/vnd.databricks.v1+cell": {
     "inputWidgets": {},
     "nuid": "4596c2eb-9a9b-4d9e-9830-0f3a65989d37",
     "showTitle": false,
     "title": ""
    }
   },
   "outputs": [
    {
     "name": "stdout",
     "output_type": "stream",
     "text": [
      "es una prueba...\n"
     ]
    }
   ],
   "source": [
    "mi_string=\"es una prueba...\"\n",
    "print(mi_string)"
   ]
  },
  {
   "cell_type": "markdown",
   "metadata": {
    "application/vnd.databricks.v1+cell": {
     "inputWidgets": {},
     "nuid": "c5e027d6-f1de-402f-b1e3-10bbb8b10303",
     "showTitle": false,
     "title": ""
    }
   },
   "source": [
    "### Concatenación de strings\n",
    "\n",
    "La hacemos con el operador `+`\n",
    "\n",
    "Éste es un ejemplo de _sobrecarga_ de operadores. La _sobrecarga_ consiste en darle a un operador distintos significados según el tipo de sus operandos."
   ]
  },
  {
   "cell_type": "code",
   "execution_count": 21,
   "metadata": {
    "application/vnd.databricks.v1+cell": {
     "inputWidgets": {},
     "nuid": "3795a091-e269-455c-a119-6769745b8bfc",
     "showTitle": false,
     "title": ""
    }
   },
   "outputs": [
    {
     "data": {
      "text/plain": [
       "'HolaPepito!!'"
      ]
     },
     "execution_count": 21,
     "metadata": {},
     "output_type": "execute_result"
    }
   ],
   "source": [
    "saludo = 'Hola'\n",
    "nombre = 'Pepito'\n",
    "exclam = '!!'\n",
    "\n",
    "saludo+nombre+exclam"
   ]
  },
  {
   "cell_type": "code",
   "execution_count": 22,
   "metadata": {
    "application/vnd.databricks.v1+cell": {
     "inputWidgets": {},
     "nuid": "6e2e0da5-2e72-4ff3-8393-399138d5680d",
     "showTitle": false,
     "title": ""
    }
   },
   "outputs": [
    {
     "data": {
      "text/plain": [
       "'HolaHola'"
      ]
     },
     "execution_count": 22,
     "metadata": {},
     "output_type": "execute_result"
    }
   ],
   "source": [
    "# También podemos multiplicar n veces un string\n",
    "2*saludo"
   ]
  },
  {
   "cell_type": "markdown",
   "metadata": {
    "application/vnd.databricks.v1+cell": {
     "inputWidgets": {},
     "nuid": "d007c4f1-84c1-4f2b-8f88-291c546d8571",
     "showTitle": false,
     "title": ""
    }
   },
   "source": [
    "### String indexing y slicing\n",
    "\n",
    "Al ser cadenas de caracteres, se puede acceder a los elementos que conforman un string a partir de un índice (***indexing***).\n",
    "\n",
    "Se pueden extraer caracteres individuales o subsecuencias que formen parte de ellas. A esto se le llama ***slicing*** y se hace con corchetes **`[]`**."
   ]
  },
  {
   "cell_type": "markdown",
   "metadata": {
    "application/vnd.databricks.v1+cell": {
     "inputWidgets": {},
     "nuid": "976c0bef-d976-4ca7-a97e-e91531930baf",
     "showTitle": false,
     "title": ""
    }
   },
   "source": [
    "En Python, las posiciones se cuentan desde 0, y los intervalos son cerrados por la izquierda y abiertos por la derecha.\n",
    "\n",
    "También podemos especificar posiciones con números negativos, en cuyo caso nos estamos refiriendo a número de caracteres antes del final de la string."
   ]
  },
  {
   "cell_type": "markdown",
   "metadata": {
    "application/vnd.databricks.v1+cell": {
     "inputWidgets": {},
     "nuid": "6e69c24a-3170-408a-99bd-bc6043b51d19",
     "showTitle": false,
     "title": ""
    }
   },
   "source": [
    "<img src=\"https://i.stack.imgur.com/o99aU.png\"  style=\"width: 400px; float: center;\"/>"
   ]
  },
  {
   "cell_type": "code",
   "execution_count": 23,
   "metadata": {
    "application/vnd.databricks.v1+cell": {
     "inputWidgets": {},
     "nuid": "4df7cdb2-7a3c-47a7-8bef-61b7c28f8ca8",
     "showTitle": false,
     "title": ""
    }
   },
   "outputs": [
    {
     "data": {
      "text/plain": [
       "'es una prueba...'"
      ]
     },
     "execution_count": 23,
     "metadata": {},
     "output_type": "execute_result"
    }
   ],
   "source": [
    "# Vamos a hacer slicing con el string anterior\n",
    "mi_string"
   ]
  },
  {
   "cell_type": "markdown",
   "metadata": {
    "application/vnd.databricks.v1+cell": {
     "inputWidgets": {},
     "nuid": "bf35c8a7-e604-4b45-94da-4f8764b95020",
     "showTitle": false,
     "title": ""
    }
   },
   "source": [
    "#### Ejemplo de slicing\n",
    "\n",
    "Quiero extraer del string: \n",
    "\n",
    "1 - La primera letra\n",
    "\n",
    "2 - La palabra prueba\n",
    "\n",
    "3 - Todo menos los puntos suspensivos"
   ]
  },
  {
   "cell_type": "code",
   "execution_count": 24,
   "metadata": {
    "application/vnd.databricks.v1+cell": {
     "inputWidgets": {},
     "nuid": "e6c8e327-6ef7-4687-bd88-d25cc07f8635",
     "showTitle": false,
     "title": ""
    }
   },
   "outputs": [
    {
     "name": "stdout",
     "output_type": "stream",
     "text": [
      "El resultado de 1 es: e\n",
      "El resultado de 2 es: prueba\n",
      "El resultado de 3 es: es una prueba\n"
     ]
    }
   ],
   "source": [
    "print('El resultado de 1 es:', mi_string[0])\n",
    "print('El resultado de 2 es:', mi_string[7:13])\n",
    "print('El resultado de 3 es:', mi_string[:-3])"
   ]
  },
  {
   "cell_type": "markdown",
   "metadata": {
    "application/vnd.databricks.v1+cell": {
     "inputWidgets": {},
     "nuid": "520f7ab9-aba9-4f83-b602-e14c21b1afe2",
     "showTitle": false,
     "title": ""
    }
   },
   "source": [
    "### Paso de un slice\n",
    "\n",
    "Al extraer slices de strings podemos especificar un tercer parámetro, el **paso**. \n",
    "\n",
    "Éste controla de cuántos en cuántos elementos tomamos al slicear."
   ]
  },
  {
   "cell_type": "code",
   "execution_count": 25,
   "metadata": {
    "application/vnd.databricks.v1+cell": {
     "inputWidgets": {},
     "nuid": "bd74aac6-33b4-4ded-ab7e-d0fe11a75b41",
     "showTitle": false,
     "title": ""
    }
   },
   "outputs": [
    {
     "data": {
      "text/plain": [
       "'13579'"
      ]
     },
     "execution_count": 25,
     "metadata": {},
     "output_type": "execute_result"
    }
   ],
   "source": [
    "st_num = '0123456789'\n",
    "\n",
    "# Al definir un paso en mi slice, voy dando saltos en los caracteres\n",
    "# Quiero los número del 1 al 9 cada 2 números\n",
    "st_num[1::2]"
   ]
  },
  {
   "cell_type": "markdown",
   "metadata": {
    "application/vnd.databricks.v1+cell": {
     "inputWidgets": {},
     "nuid": "c60b9fdd-cce5-4f3e-afa1-756290816594",
     "showTitle": false,
     "title": ""
    }
   },
   "source": [
    "### Otros métodos de los strings\n",
    "\n",
    "Una string \"sabe\" hacer cosas relacionadas con su naturaleza como secuencia de caracteres, es decir, como texto.\n",
    "\n",
    "Estas cosas que \"sabe\" hacer una string son sus _métodos_, a los que se accede mediante un punto detrás de la string.\n",
    "\n",
    "[Catálogo de todos los métodos de las strings](https://docs.python.org/3/library/stdtypes.html#text-sequence-type-str)"
   ]
  },
  {
   "cell_type": "markdown",
   "metadata": {
    "application/vnd.databricks.v1+cell": {
     "inputWidgets": {},
     "nuid": "48e26ba5-c97b-4c53-b6c4-bb08753a402c",
     "showTitle": false,
     "title": ""
    }
   },
   "source": [
    "Vamos a probar algunos de ellos:\n",
    "\n",
    "- Para convertir un string a minúsculas: `str.lower()`\n",
    "\n",
    "- Para convertir un string a mayúsculas: `str.upper()`\n",
    "\n",
    "- Para calcular la longitud de un string: `len(str)`\n",
    "\n",
    "- Para saber si empieza por una cadena de caracteres: `str.startswith('xxx')`\n",
    "\n",
    "- Para saber si termina por una cadena de caracteres: `str.endswith('xxx')`\n",
    "\n",
    "- Para separar el string por un elemento: `str.split('elem')`\n",
    "\n",
    "- Para juntar varios strings y que estén separados por un elemento: `str.join('elem')` \n",
    "\n",
    "- Para contar cuantas veces aparece un elemento en el string: `str.count('elem')`"
   ]
  },
  {
   "cell_type": "markdown",
   "metadata": {
    "application/vnd.databricks.v1+cell": {
     "inputWidgets": {},
     "nuid": "af9e1c0f-1842-402d-9064-99a21ae70b2d",
     "showTitle": false,
     "title": ""
    }
   },
   "source": [
    "Vamos a usar la primera frase del Quijote :\n",
    "\n",
    "*En un lugar de la Mancha, de cuyo nombre no quiero acordarme, no ha mucho tiempo que vivía un hidalgo de los de lanza en astillero, adarga antigua, rocín flaco y galgo corredor.*"
   ]
  },
  {
   "cell_type": "code",
   "execution_count": 26,
   "metadata": {
    "application/vnd.databricks.v1+cell": {
     "inputWidgets": {},
     "nuid": "1d78f30b-7273-4d69-b33c-4dd3d6d81de3",
     "showTitle": false,
     "title": ""
    }
   },
   "outputs": [],
   "source": [
    "quijote = 'En un lugar de la Mancha, de cuyo nombre no quiero acordarme, no ha mucho tiempo que vivía un hidalgo de los de lanza en astillero, adarga antigua, rocín flaco y galgo corredor.'"
   ]
  },
  {
   "cell_type": "markdown",
   "metadata": {
    "application/vnd.databricks.v1+cell": {
     "inputWidgets": {},
     "nuid": "a0fb5155-1fc9-49b6-ba05-425c5acc68c4",
     "showTitle": false,
     "title": ""
    }
   },
   "source": [
    "#### Ejemplos de métodos de los strings\n",
    "\n",
    "Quiero:  \n",
    "\n",
    "1 - Separar el string por las comas\n",
    "\n",
    "2 - Quedarme con la primera parte \"En un lugar de la Mancha\", asignarselo a la nueva variable \"quij_1\"\n",
    "\n",
    "3 - Ver la longitud de \"quij1\"\n",
    "\n",
    "4 - Contar cuantas veces aparece la \"a\" en \"quij1\"\n",
    "\n",
    "5 - Poner \"quij1\" en mayúsculas"
   ]
  },
  {
   "cell_type": "code",
   "execution_count": 27,
   "metadata": {
    "application/vnd.databricks.v1+cell": {
     "inputWidgets": {},
     "nuid": "6044ddb6-5174-4b0f-87f0-bbe5441a8769",
     "showTitle": false,
     "title": ""
    }
   },
   "outputs": [
    {
     "data": {
      "text/plain": [
       "['En un lugar de la Mancha',\n",
       " ' de cuyo nombre no quiero acordarme',\n",
       " ' no ha mucho tiempo que vivía un hidalgo de los de lanza en astillero',\n",
       " ' adarga antigua',\n",
       " ' rocín flaco y galgo corredor.']"
      ]
     },
     "execution_count": 27,
     "metadata": {},
     "output_type": "execute_result"
    }
   ],
   "source": [
    "# 1 - Separar el string por las comas\n",
    "quijote.split(',')"
   ]
  },
  {
   "cell_type": "code",
   "execution_count": 28,
   "metadata": {
    "application/vnd.databricks.v1+cell": {
     "inputWidgets": {},
     "nuid": "d09688bd-27f9-479a-88cf-d15c1a5d7ff6",
     "showTitle": false,
     "title": ""
    }
   },
   "outputs": [
    {
     "data": {
      "text/plain": [
       "24"
      ]
     },
     "execution_count": 28,
     "metadata": {},
     "output_type": "execute_result"
    }
   ],
   "source": [
    "# 2 - Quedarme con la primera parte \"En un lugar de la Mancha\"\n",
    "quij1 = quijote[:24]\n",
    "\n",
    "# Ver la longitud de la nueva variable\n",
    "len(quij1)"
   ]
  },
  {
   "cell_type": "code",
   "execution_count": 29,
   "metadata": {
    "application/vnd.databricks.v1+cell": {
     "inputWidgets": {},
     "nuid": "15226f23-d823-4318-9e59-96396e49169a",
     "showTitle": false,
     "title": ""
    }
   },
   "outputs": [
    {
     "data": {
      "text/plain": [
       "4"
      ]
     },
     "execution_count": 29,
     "metadata": {},
     "output_type": "execute_result"
    }
   ],
   "source": [
    "# Contar cuantas veces aparece la \"a\"\n",
    "quij1.count('a')"
   ]
  },
  {
   "cell_type": "code",
   "execution_count": 30,
   "metadata": {
    "application/vnd.databricks.v1+cell": {
     "inputWidgets": {},
     "nuid": "8f74d203-a4b0-4a9b-a289-be0a0586a567",
     "showTitle": false,
     "title": ""
    }
   },
   "outputs": [
    {
     "data": {
      "text/plain": [
       "'EN UN LUGAR DE LA MANCHA'"
      ]
     },
     "execution_count": 30,
     "metadata": {},
     "output_type": "execute_result"
    }
   ],
   "source": [
    "# Poner \"quij1\" en mayúsculas\n",
    "quij1.upper()"
   ]
  }
 ],
 "metadata": {
  "application/vnd.databricks.v1+notebook": {
   "dashboards": [],
   "language": "python",
   "notebookMetadata": {
    "pythonIndentUnit": 2
   },
   "notebookName": "02-Variables_y_Operaciones",
   "notebookOrigID": 756874528094899,
   "widgets": {}
  },
  "kernelspec": {
   "display_name": "Python 3",
   "language": "python",
   "name": "python3"
  },
  "language_info": {
   "codemirror_mode": {
    "name": "ipython",
    "version": 3
   },
   "file_extension": ".py",
   "mimetype": "text/x-python",
   "name": "python",
   "nbconvert_exporter": "python",
   "pygments_lexer": "ipython3",
   "version": "3.7.1"
  }
 },
 "nbformat": 4,
 "nbformat_minor": 1
}
