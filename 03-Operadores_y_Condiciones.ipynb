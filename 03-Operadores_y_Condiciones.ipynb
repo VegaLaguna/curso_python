{
 "cells": [
  {
   "cell_type": "markdown",
   "metadata": {
    "application/vnd.databricks.v1+cell": {
     "inputWidgets": {},
     "nuid": "87994682-a29b-4cbe-9867-63a89d12379d",
     "showTitle": false,
     "title": ""
    }
   },
   "source": [
    "# TEMA 3 - OPERADORES LÓGICOS Y CONDICIONES"
   ]
  },
  {
   "cell_type": "markdown",
   "metadata": {
    "application/vnd.databricks.v1+cell": {
     "inputWidgets": {},
     "nuid": "286afb69-64d1-4e1c-a6b9-5bd0d07e9fb3",
     "showTitle": false,
     "title": ""
    }
   },
   "source": [
    "Existen dos tipos de operadores: \n",
    "\n",
    "- Operadores relacionales, que establecen relaciones entre las dos variables que evalúan\n",
    "\n",
    "- Operadores lógicos (o no relacionales), que unen sentencias o condiciones"
   ]
  },
  {
   "cell_type": "markdown",
   "metadata": {
    "application/vnd.databricks.v1+cell": {
     "inputWidgets": {},
     "nuid": "025c4919-383c-41f1-b4d7-5030fae6e50a",
     "showTitle": false,
     "title": ""
    }
   },
   "source": [
    "## Operadores\n",
    "\n",
    "### Operadores relacionales\n",
    "\n",
    "Los operadores relacionales trabajan con variables no booleanas, y devuelven valores booleanos.\n",
    "\n",
    "Sirven para comparar variables, y devuelven un resultado de tipo *lógico*\n",
    "\n",
    "|       Operador      | Símbolo | Ejemplo|\n",
    "|  -------------------|---------|--------|\n",
    "|       Menor que     |   <     |  3<2   |\n",
    "|       Mayor que     |   >     |  3>2   |\n",
    "|   Menor o igual que |  <=     |  3<=2  |\n",
    "|   Mayor o igual que |  >=     |  3>=2  | \n",
    "|       Es igual      |  ==     |  3==2  |\n",
    "|     Es diferente    |  !=     |  3!=2  |"
   ]
  },
  {
   "cell_type": "markdown",
   "metadata": {
    "application/vnd.databricks.v1+cell": {
     "inputWidgets": {},
     "nuid": "bd0816c0-af0f-4c24-bfe1-f3f2b52281d9",
     "showTitle": false,
     "title": ""
    }
   },
   "source": [
    "### Operadores lógicos\n",
    "\n",
    "Los operadores lógicos trabajan con operandos lógicos (variables booleanas), y devuelven valores booleanos.\n",
    "\n",
    "Combinan valores lógicos para dar lugar\n",
    "a otro valor lógico.\n",
    "\n",
    "\n",
    "|   Operador | Símbolo     |   Equivalente    | Operación|\n",
    "|  ----------|-------------|------------------|----------|\n",
    "|      Y     |    &        | and              |  Y lógico|\n",
    "|      O     |     &#124;  | or               |  O lógico|\n",
    "|      No    |    !        | not              |  Negación|"
   ]
  },
  {
   "cell_type": "markdown",
   "metadata": {
    "application/vnd.databricks.v1+cell": {
     "inputWidgets": {},
     "nuid": "682d1736-f4a1-4fd6-9edf-520a85c86658",
     "showTitle": false,
     "title": ""
    }
   },
   "source": [
    "### Tablas de la verdad\n",
    "\n",
    "#### Operador Y lógico\n",
    "\n",
    "|         a      |       b        |     a & b   |\n",
    "|----------------|----------------|-------------|\n",
    "|       Falso    |       Falso    |     Falso   |\n",
    "|       Falso    |     Verdadero  |     Falso   |\n",
    "|     Verdadero  |       Falso    |     Falso   |\n",
    "|     Verdadero  |     Verdadero  |   Verdadero |\n",
    "\n",
    "#### Operador O lógico\n",
    "\n",
    "|         a      |       b        |  a  &#124; b   |\n",
    "|----------------|----------------|----------------|\n",
    "|       Falso    |       Falso    |     Falso      |\n",
    "|       Falso    |     Verdadero  |   Verdadero    |\n",
    "|     Verdadero  |       Falso    |   Verdadero    |\n",
    "|     Verdadero  |     Verdadero  |   Verdadero    |\n",
    "\n",
    "#### Negación lógica\n",
    "\n",
    "|   a             |  not a         |\n",
    "|-----------------|----------------|\n",
    "|       Falso     |       Verdadero|\n",
    "|     Verdadero   |         Falso  |\n",
    "\n",
    "\n",
    "#### Operador XOR lógico\n",
    "\n",
    "|         a      |       b        |   a ^ b   |\n",
    "|----------------|----------------|-------------|\n",
    "|     Verdadero  |     Verdadero  |     Falso   |\n",
    "|     Verdadero  |       Falso    |   Verdadero |\n",
    "|       Falso    |     Verdadero  |   Verdadero |\n",
    "|       Falso    |       Falso    |     Falso   |"
   ]
  },
  {
   "cell_type": "markdown",
   "metadata": {
    "application/vnd.databricks.v1+cell": {
     "inputWidgets": {},
     "nuid": "c5b20fde-c4a6-4f42-b8cd-7f8f2d8b09c7",
     "showTitle": false,
     "title": ""
    }
   },
   "source": [
    "#### Ejemplos con operadores"
   ]
  },
  {
   "cell_type": "code",
   "execution_count": 1,
   "metadata": {
    "application/vnd.databricks.v1+cell": {
     "inputWidgets": {},
     "nuid": "9069517b-d6ff-4c88-9f63-589c89621560",
     "showTitle": false,
     "title": ""
    }
   },
   "outputs": [
    {
     "name": "stdout",
     "output_type": "stream",
     "text": [
      "False\n"
     ]
    }
   ],
   "source": [
    "hace_frio = True\n",
    "voy_a_salir = False\n",
    "poner_abrigo = hace_frio & voy_a_salir\n",
    "print(poner_abrigo)"
   ]
  },
  {
   "cell_type": "code",
   "execution_count": null,
   "metadata": {},
   "outputs": [],
   "source": []
  },
  {
   "cell_type": "markdown",
   "metadata": {
    "application/vnd.databricks.v1+cell": {
     "inputWidgets": {},
     "nuid": "cf782f0e-5b3d-4227-a288-c69f8ade603c",
     "showTitle": false,
     "title": ""
    }
   },
   "source": [
    "## Instrucciones if/else\n",
    "\n",
    "La instrucción **if** nos permite construir bifurcaciones de ejecución.\n",
    "\n",
    "Esto significa que es la herramienta básica que necesitamos para que nuestros programas se adapten a las circunstacias.\n",
    "\n",
    "La estructura general es\n",
    "\n",
    "```python\n",
    "if condicion:\n",
    "    # Bloque 1\n",
    "    # Codigo a ejecutar si la condicion es verdadera\n",
    "else:\n",
    "    #Bloque 2\n",
    "    # Codigo a ejecutar si la condicion es falsa (opcional)\n",
    "```"
   ]
  },
  {
   "cell_type": "markdown",
   "metadata": {
    "application/vnd.databricks.v1+cell": {
     "inputWidgets": {},
     "nuid": "516c4b8e-62d2-435b-b9f9-5a3ff46776b3",
     "showTitle": false,
     "title": ""
    }
   },
   "source": [
    "#### Bloques de código\n",
    "\n",
    "Dentro de la instrucción if, tenemos que comenzar un bloque\n",
    "de código. Los bloques de código:\n",
    "\n",
    "-   El símbolo de dos puntos indica el comienzo de un bloque\n",
    "\n",
    "-   Tienen que incrementar el nivel de indentación\n",
    "\n",
    "-   El nivel de indentación es siempre el mismo en un bloque\n",
    "\n",
    "-   Por convención, se usan 4 espacios o el tabulador\n",
    "\n",
    "-   No hay end, ni llaves que delimiten, etc."
   ]
  },
  {
   "cell_type": "code",
   "execution_count": 2,
   "metadata": {
    "application/vnd.databricks.v1+cell": {
     "inputWidgets": {},
     "nuid": "09f50958-d805-4884-a9c5-604781459a6a",
     "showTitle": false,
     "title": ""
    }
   },
   "outputs": [
    {
     "name": "stdout",
     "output_type": "stream",
     "text": [
      "A ver Netflix!!\n"
     ]
    }
   ],
   "source": [
    "# EJEMPLO\n",
    "\n",
    "hace_frio = True\n",
    "voy_a_salir = False\n",
    "poner_abrigo = hace_frio & voy_a_salir\n",
    "\n",
    "if poner_abrigo: # Se sobreentiende que es la condición de que sea ==True\n",
    "    print(\"Que pereza...\")\n",
    "    \n",
    "else: # Es decir, si la condicion poner_abrigo da False\n",
    "    print(\"A ver Netflix!!\")"
   ]
  },
  {
   "cell_type": "code",
   "execution_count": 3,
   "metadata": {},
   "outputs": [
    {
     "name": "stdout",
     "output_type": "stream",
     "text": [
      "No sé donde lo he colgado!\n"
     ]
    }
   ],
   "source": [
    "# También puedo poner condiciones falsas en el if usando \"if not\"\n",
    "if not poner_abrigo:\n",
    "    print('No sé donde lo he colgado!')"
   ]
  },
  {
   "cell_type": "code",
   "execution_count": 0,
   "metadata": {
    "application/vnd.databricks.v1+cell": {
     "inputWidgets": {},
     "nuid": "2111af43-5af1-4906-acd4-e55f19fe052f",
     "showTitle": false,
     "title": ""
    }
   },
   "outputs": [
    {
     "data": {
      "text/html": [
       "<style scoped>\n",
       "  .ansiout {\n",
       "    display: block;\n",
       "    unicode-bidi: embed;\n",
       "    white-space: pre-wrap;\n",
       "    word-wrap: break-word;\n",
       "    word-break: break-all;\n",
       "    font-family: \"Source Code Pro\", \"Menlo\", monospace;;\n",
       "    font-size: 13px;\n",
       "    color: #555;\n",
       "    margin-left: 4px;\n",
       "    line-height: 19px;\n",
       "  }\n",
       "</style>"
      ]
     },
     "metadata": {
      "application/vnd.databricks.v1+output": {
       "arguments": {},
       "data": "",
       "errorSummary": "",
       "metadata": {},
       "type": "ipynbError"
      }
     },
     "output_type": "display_data"
    }
   ],
   "source": []
  },
  {
   "cell_type": "markdown",
   "metadata": {
    "application/vnd.databricks.v1+cell": {
     "inputWidgets": {},
     "nuid": "95a6716a-ddc7-43e1-91f0-72036d7dcd8d",
     "showTitle": false,
     "title": ""
    }
   },
   "source": [
    "**Problema 1**\n",
    "\n",
    "¿Qué valores tendrán x e y después de ejecutar este código?\n",
    "\n",
    "```python\n",
    "x=6\n",
    "y=8\n",
    "if x<y:\n",
    "    y=y/2\n",
    "else:\n",
    "    x=x/2\n",
    "```"
   ]
  },
  {
   "cell_type": "code",
   "execution_count": 4,
   "metadata": {},
   "outputs": [
    {
     "name": "stdout",
     "output_type": "stream",
     "text": [
      "6\n",
      "4.0\n"
     ]
    }
   ],
   "source": [
    "# SOLUCIÓN\n",
    "x=6\n",
    "y=8\n",
    "if x<y:\n",
    "    y=y/2\n",
    "else:\n",
    "    x=x/2\n",
    "    \n",
    "print(x)\n",
    "print(y)"
   ]
  },
  {
   "cell_type": "code",
   "execution_count": 0,
   "metadata": {
    "application/vnd.databricks.v1+cell": {
     "inputWidgets": {},
     "nuid": "d4e2a9f6-4bf6-43f4-aa20-2a4a9531eed2",
     "showTitle": false,
     "title": ""
    }
   },
   "outputs": [
    {
     "data": {
      "text/html": [
       "<style scoped>\n",
       "  .ansiout {\n",
       "    display: block;\n",
       "    unicode-bidi: embed;\n",
       "    white-space: pre-wrap;\n",
       "    word-wrap: break-word;\n",
       "    word-break: break-all;\n",
       "    font-family: \"Source Code Pro\", \"Menlo\", monospace;;\n",
       "    font-size: 13px;\n",
       "    color: #555;\n",
       "    margin-left: 4px;\n",
       "    line-height: 19px;\n",
       "  }\n",
       "</style>"
      ]
     },
     "metadata": {
      "application/vnd.databricks.v1+output": {
       "arguments": {},
       "data": "",
       "errorSummary": "",
       "metadata": {},
       "type": "ipynbError"
      }
     },
     "output_type": "display_data"
    }
   ],
   "source": []
  },
  {
   "cell_type": "markdown",
   "metadata": {
    "application/vnd.databricks.v1+cell": {
     "inputWidgets": {},
     "nuid": "54093ea8-d692-47d0-af02-69eea693d173",
     "showTitle": false,
     "title": ""
    }
   },
   "source": [
    "### Instrucciones if/else anidadas\n",
    "\n",
    "Dentro del cuerpo de la instrucción ``if`` podemos poner cualquier cosa, incluida otra instrucción ``if``."
   ]
  },
  {
   "cell_type": "markdown",
   "metadata": {
    "application/vnd.databricks.v1+cell": {
     "inputWidgets": {},
     "nuid": "23e3de37-b3aa-4f4f-82b9-740571c4e588",
     "showTitle": false,
     "title": ""
    }
   },
   "source": [
    "**Problema 2: Adivina un número**\n",
    "\n",
    "Vamos a preguntar un número del 1 al 10 al usuario, y compararlo con un número aleatorio (buscar el módulo ``random`` de Python).\n",
    "\n",
    "-   Si el usuario acierta, mostramos un mensaje diciendo que ha ganado.\n",
    "\n",
    "-   Si no acierta, le decimos si el número secreto es mayor o menor que\n",
    "    el número que ha introducido."
   ]
  },
  {
   "cell_type": "code",
   "execution_count": 5,
   "metadata": {
    "application/vnd.databricks.v1+cell": {
     "inputWidgets": {},
     "nuid": "f8c50d03-45c4-4635-a7b5-71bec7c71bb2",
     "showTitle": false,
     "title": ""
    }
   },
   "outputs": [
    {
     "name": "stdout",
     "output_type": "stream",
     "text": [
      "Dime un número del 1 al 10: 7\n",
      "Te has pasado...\n",
      "El número a adivinar era: 6\n"
     ]
    }
   ],
   "source": [
    "# SOLUCIÓN\n",
    "import random\n",
    "\n",
    "mi_numero = int(input(\"Dime un número del 1 al 10: \"))\n",
    "\n",
    "num_aleatorio = random.randint(1,10)\n",
    "\n",
    "adivinado = (mi_numero == num_aleatorio)\n",
    "\n",
    "if adivinado:\n",
    "    print('Enhorabuena! Has acertado!')\n",
    "    \n",
    "else:\n",
    "    if mi_numero < num_aleatorio:\n",
    "        print('Te has quedado corto...')\n",
    "        \n",
    "    else:\n",
    "        print('Te has pasado...')\n",
    "    \n",
    "    print('El número a adivinar era:', num_aleatorio) # Este print está en el primer if/else"
   ]
  },
  {
   "cell_type": "code",
   "execution_count": 0,
   "metadata": {
    "application/vnd.databricks.v1+cell": {
     "inputWidgets": {},
     "nuid": "00bcb633-c8ff-47c2-a339-3edbb1b96b61",
     "showTitle": false,
     "title": ""
    }
   },
   "outputs": [
    {
     "data": {
      "text/html": [
       "<style scoped>\n",
       "  .ansiout {\n",
       "    display: block;\n",
       "    unicode-bidi: embed;\n",
       "    white-space: pre-wrap;\n",
       "    word-wrap: break-word;\n",
       "    word-break: break-all;\n",
       "    font-family: \"Source Code Pro\", \"Menlo\", monospace;;\n",
       "    font-size: 13px;\n",
       "    color: #555;\n",
       "    margin-left: 4px;\n",
       "    line-height: 19px;\n",
       "  }\n",
       "</style>"
      ]
     },
     "metadata": {
      "application/vnd.databricks.v1+output": {
       "arguments": {},
       "data": "",
       "errorSummary": "",
       "metadata": {},
       "type": "ipynbError"
      }
     },
     "output_type": "display_data"
    }
   ],
   "source": []
  },
  {
   "cell_type": "markdown",
   "metadata": {
    "application/vnd.databricks.v1+cell": {
     "inputWidgets": {},
     "nuid": "311c894d-486d-45a0-b354-c79d82ae948a",
     "showTitle": false,
     "title": ""
    }
   },
   "source": [
    "### Claúsula ``elif``\n",
    "\n",
    "Además de ``else`` tenemos la cláusula `elif`:\n",
    "\n",
    "-   Permite especificar varias condiciones sin necesidad de anidar las instrucciones ``if``\n",
    "\n",
    "-   Solo se ejecuta una de las cláusulas `if`, `elif` o `else` (la primera que tenga la condición verdadera)\n",
    "\n",
    "-   Puede haber varias cláusulas `elif`\n",
    "\n",
    "-   La cláusula `else` sigue siendo opcional\n",
    "\n",
    "-   Mejora mucho la legibilidad del código con varias condiciones complejas\n",
    "\n",
    "\n",
    "```python\n",
    "if expresion_booleana_1:\n",
    "    # Bloque 1\n",
    "    # Si no cumple el Bloque 1 pasamos al primer elif\n",
    "elif expresion_booleana_2:\n",
    "    # Bloque 2\n",
    "    # Si no cumple el Bloque 2 pasamos al segundo elif\n",
    "elif expresion_booleana_3:\n",
    "    # Bloque 3\n",
    "    # Si no cumple el Bloque 3 pasamos al siguiente elif\n",
    "    #...\n",
    "else:\n",
    "    # Bloque n\n",
    "    # Se ejecuta si no ha cumplido ninguna de las condiciones anteriores\n",
    "    \n",
    "```"
   ]
  },
  {
   "cell_type": "markdown",
   "metadata": {
    "application/vnd.databricks.v1+cell": {
     "inputWidgets": {},
     "nuid": "d4904b23-6b6b-4e2a-a498-e5400f511888",
     "showTitle": false,
     "title": ""
    }
   },
   "source": [
    "**Problema 3: FizzBuzz**\n",
    "\n",
    "Pide un número al usuario. \n",
    "\n",
    "Si el número es divisible por 3, escribe por pantalla \"Fizz\". \n",
    "\n",
    "Si es divisible por 5, escribe \"Buzz\". \n",
    "\n",
    "A no ser que sea divisible por ambos, en cuyo caso escribe \"FizzBuzz\". \n",
    "\n",
    "En caso de que no sea divisible por ninguno, escribe el número."
   ]
  },
  {
   "cell_type": "code",
   "execution_count": 6,
   "metadata": {
    "application/vnd.databricks.v1+cell": {
     "inputWidgets": {},
     "nuid": "8a34164c-13bd-4e3f-b8b0-c0c44e03855b",
     "showTitle": false,
     "title": ""
    }
   },
   "outputs": [
    {
     "name": "stdout",
     "output_type": "stream",
     "text": [
      "Dame un número: 21\n",
      "Fizz\n"
     ]
    }
   ],
   "source": [
    "# SOLUCIÓN\n",
    "\n",
    "mi_numero = int(input('Dame un número: ')) \n",
    "\n",
    "if (mi_numero % 3 == 0) and (mi_numero % 5 == 0):\n",
    "    print('FizzBuzz')\n",
    "elif mi_numero % 3 == 0:\n",
    "    print('Fizz')\n",
    "elif mi_numero % 5 == 0:\n",
    "    print('Buzz')\n",
    "else:\n",
    "    print(mi_numero)"
   ]
  },
  {
   "cell_type": "markdown",
   "metadata": {
    "application/vnd.databricks.v1+cell": {
     "inputWidgets": {},
     "nuid": "431497e0-2b93-470e-a4ed-a3f67768480e",
     "showTitle": false,
     "title": ""
    }
   },
   "source": [
    "**Problema 4:**\n",
    "\n",
    "Escribe un programa que sume dos números tomados del usuario si ambos son enteros. Los tomaremos como una lista separada por espacios. Si no son enteros, debería escribir por pantalla un mensaje al usuario.\n",
    "\n",
    "*Entrada de muestra*:\n",
    "```python\n",
    "2.3 1\n",
    "```\n",
    "\n",
    "*Salida de muestra*: \n",
    "```python\n",
    "Los números 2.3 y 1 no son enteros.\n",
    "```\n",
    "\n",
    "***Pista***: https://docs.python.org/3/library/stdtypes.html#text-sequence-type-str"
   ]
  },
  {
   "cell_type": "code",
   "execution_count": 7,
   "metadata": {
    "application/vnd.databricks.v1+cell": {
     "inputWidgets": {},
     "nuid": "f4d984c3-146c-4103-bd11-40e7794f6899",
     "showTitle": false,
     "title": ""
    }
   },
   "outputs": [
    {
     "name": "stdout",
     "output_type": "stream",
     "text": [
      "Dame dos números separados por espacios: 2.3 1\n",
      "Los números 2.3 y 1 no son enteros\n"
     ]
    }
   ],
   "source": [
    "# SOLUCIÓN\n",
    "\n",
    "dos_numeros=input(\"Dame dos números separados por espacios: \")\n",
    "numero1, numero2 = dos_numeros.split(\" \")\n",
    "\n",
    "if numero1.isnumeric() and numero2.isnumeric():\n",
    "    #Tambien se puede usar el método .isdigit()\n",
    "    print(int(numero1)+int(numero2))\n",
    "else:\n",
    "    print(\"Los números %s y %s no son enteros\" %(numero1,numero2))"
   ]
  },
  {
   "cell_type": "markdown",
   "metadata": {
    "application/vnd.databricks.v1+cell": {
     "inputWidgets": {},
     "nuid": "4c9b7531-74c1-4e71-b325-f68ffd4443c8",
     "showTitle": false,
     "title": ""
    }
   },
   "source": [
    "**Problema 5:**\n",
    "\n",
    "Escribe un programa que transforme de grados Fahrenheit a Celsius y viceversa.\n",
    "\n",
    "| *Entrada de muestra* | *Salida de muestra* |\n",
    "|-----------------------|---------------------|\n",
    "|       100 F           |       37.8 ºC       |\n",
    "|       100 C           |        212 ºF       |\n",
    "|         0 C           |         32 ºF       |"
   ]
  },
  {
   "cell_type": "code",
   "execution_count": 10,
   "metadata": {
    "application/vnd.databricks.v1+cell": {
     "inputWidgets": {},
     "nuid": "7d6da22b-8705-4ec2-b306-0cef3ab1930d",
     "showTitle": false,
     "title": ""
    }
   },
   "outputs": [
    {
     "name": "stdout",
     "output_type": "stream",
     "text": [
      "Introduce la temperatura:0 c\n",
      "No has metido la unidad! Vuelve a empezar\n"
     ]
    }
   ],
   "source": [
    "# SOLUCIÓN 1 \n",
    "\n",
    "temperatura=input(\"Introduce la temperatura:\") \n",
    "\n",
    "lista_temperatura = temperatura.split(\" \")\n",
    "tipo_de_grado = lista_temperatura[-1] #Para que lea el ultimo valor donde indicamos el tipo de grado\n",
    "grados = int(lista_temperatura[0])\n",
    "\n",
    "if tipo_de_grado==\"F\":\n",
    "    #Metemos la operación en el if para que no haga operaciones innecesarias\n",
    "    fahr_a_celsius=(grados-32)*5/9       \n",
    "    print(\"%.1f ºC\" %fahr_a_celsius)\n",
    "    \n",
    "elif tipo_de_grado==\"C\":\n",
    "    celsius_a_fahr=grados*9/5+32\n",
    "    print(\"%.1f ºF\" %celsius_a_fahr)\n",
    "    \n",
    "else:\n",
    "    print('No has metido la unidad! Vuelve a empezar')"
   ]
  },
  {
   "cell_type": "code",
   "execution_count": 11,
   "metadata": {},
   "outputs": [
    {
     "name": "stdout",
     "output_type": "stream",
     "text": [
      "Introduce la temperatura:100 f\n",
      "La temperatura en grados celsius es 37.8 C\n"
     ]
    }
   ],
   "source": [
    "# SOLUCIÓN 2 (MÁS AVANZADA)\n",
    "\n",
    "temperatura = input(\"Introduce la temperatura:\") \n",
    "numero_temp = temperatura.split(\" \")[0]\n",
    "\n",
    "if temperatura.upper().endswith('F'): # Añadiendo el .upper() me aseguro de coger el tipo de grado aunque el usuario lo meta en minúsculas\n",
    "    temp_convert = ((float(numero_temp))-32)*5/9\n",
    "    print('La temperatura en grados celsius es %.1f C' %temp_convert)\n",
    "\n",
    "elif temperatura.upper().endswith('C'):\n",
    "    temp_convert = (float(numero_temp))*9/5+32\n",
    "    print('La temperatura en grados fahrenheit es %.1f F' %temp_convert)"
   ]
  },
  {
   "cell_type": "code",
   "execution_count": null,
   "metadata": {},
   "outputs": [],
   "source": []
  },
  {
   "cell_type": "markdown",
   "metadata": {
    "application/vnd.databricks.v1+cell": {
     "inputWidgets": {},
     "nuid": "a0ec8c0d-fea1-4994-bb92-2837857bcf2f",
     "showTitle": false,
     "title": ""
    }
   },
   "source": [
    "#### Comentario sobre los ``print``\n",
    "\n",
    "Se pueden hacer ``print`` de varias maneras:\n",
    "\n",
    "- Poniendo los elementos que queremos imprimir **separados por comas**:\n",
    "```python\n",
    "nombre = 'Vega'\n",
    "print('Me llamo ', nombre)\n",
    "--> 'Me llamo Vega'\n",
    "```\n",
    "\n",
    "- Poniendo los elementos que queremos imprimir **separados por el símbolo +** (solo sirve para unir strings):\n",
    "```python\n",
    "nombre = 'Vega'\n",
    "print('Me llamo '+ nombre)\n",
    "--> 'Me llamo Vega'\n",
    "```\n",
    "\n",
    "- Haciendo **string formatting**, es decir, usando el operador % para representar la variable a la que nos referimos:\n",
    "```python\n",
    "nombre = 'Vega'\n",
    "print('Me llamo %s' %nombre)\n",
    "--> 'Me llamo Vega'\n",
    "```\n",
    "\n",
    "Los argumentos básicos del string formatting son: \n",
    "\n",
    "- ``%s``: para referirnos a variables tipo string, o cualquier objeto que se pueda pasar a string\n",
    "- ``%d``: para variables numéricas enteras (tipo int)\n",
    "- ``%.f``: para variables numéricas tipo float --> se puede elegir la cantidad de números a mostrar tras la coma poniendo el valor antes de la f (%.2f para que salgan 2 decimales)\n",
    "\n",
    "\n",
    "- Usando **format**, es decir, usando el operador {} para representar la variable a la que nos referimos:\n",
    "```python\n",
    "nombre = 'Vega'\n",
    "print('Me llamo {}'.format(nombre))\n",
    "--> 'Me llamo Vega'\n",
    "```"
   ]
  }
 ],
 "metadata": {
  "application/vnd.databricks.v1+notebook": {
   "dashboards": [],
   "language": "python",
   "notebookMetadata": {
    "pythonIndentUnit": 2
   },
   "notebookName": "03-Operadores_y_Condiciones",
   "notebookOrigID": 756874528094765,
   "widgets": {
    "name": {
     "currentValue": "",
     "nuid": "ef8b0495-595e-4b71-a3ef-0743c9390f70",
     "widgetInfo": {
      "defaultValue": "",
      "label": null,
      "name": "name",
      "options": {
       "validationRegex": null,
       "widgetType": "text"
      },
      "widgetType": "text"
     }
    }
   }
  },
  "kernelspec": {
   "display_name": "Python 3",
   "language": "python",
   "name": "python3"
  },
  "language_info": {
   "codemirror_mode": {
    "name": "ipython",
    "version": 3
   },
   "file_extension": ".py",
   "mimetype": "text/x-python",
   "name": "python",
   "nbconvert_exporter": "python",
   "pygments_lexer": "ipython3",
   "version": "3.7.1"
  }
 },
 "nbformat": 4,
 "nbformat_minor": 1
}
